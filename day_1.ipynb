{
 "cells": [
  {
   "cell_type": "code",
   "execution_count": null,
   "id": "c7e6a4ea",
   "metadata": {},
   "outputs": [],
   "source": []
  },
  {
   "cell_type": "markdown",
   "id": "4ab57763",
   "metadata": {},
   "source": [
    "# python\n",
    "### 기본문법 1일차"
   ]
  },
  {
   "cell_type": "code",
   "execution_count": null,
   "id": "e2de3b6e",
   "metadata": {
    "scrolled": true
   },
   "outputs": [],
   "source": [
    "print('hello')\n",
    "print(10 * 20)\n",
    "10+20"
   ]
  },
  {
   "cell_type": "code",
   "execution_count": null,
   "id": "fb8e4eea",
   "metadata": {},
   "outputs": [],
   "source": [
    "import keyword\n",
    "keyword.kwlist"
   ]
  },
  {
   "cell_type": "code",
   "execution_count": null,
   "id": "c65a4209",
   "metadata": {},
   "outputs": [],
   "source": [
    "1+1"
   ]
  },
  {
   "cell_type": "code",
   "execution_count": null,
   "id": "47c64be3",
   "metadata": {},
   "outputs": [],
   "source": [
    "print('test print')\n",
    "print(10+20)"
   ]
  },
  {
   "cell_type": "code",
   "execution_count": null,
   "id": "28fbdb1e",
   "metadata": {},
   "outputs": [],
   "source": [
    "# print() 함수 사용해 보기\n",
    "print('hello python!!')\n",
    "print('연산식 :',10+20)\n",
    "print('여러 자료 출력 :', 10, 20, ' end')\n",
    "print() # 빈 라인 출력\n",
    "print(10+20)"
   ]
  },
  {
   "cell_type": "code",
   "execution_count": null,
   "id": "bba996e8",
   "metadata": {},
   "outputs": [],
   "source": [
    "# 자료형 확인\n",
    "print(type('문자열'))\n",
    "print(type(1.1))"
   ]
  },
  {
   "cell_type": "code",
   "execution_count": null,
   "id": "b0931fc3",
   "metadata": {},
   "outputs": [],
   "source": [
    "print('\"안녕하세요\"')"
   ]
  },
  {
   "cell_type": "code",
   "execution_count": null,
   "id": "9999e504",
   "metadata": {},
   "outputs": [],
   "source": [
    "print(\"\\\"안녕하세요\\\"\")"
   ]
  },
  {
   "cell_type": "code",
   "execution_count": null,
   "id": "bfde726c",
   "metadata": {},
   "outputs": [],
   "source": [
    "# \\n : 줄 바꿈, \\t : tab 띄움\n",
    "# \\\\ : \\를 출력\n",
    "print('\\\\ \\\\ \\\\ \\\\')"
   ]
  },
  {
   "cell_type": "code",
   "execution_count": null,
   "id": "8435c0a3",
   "metadata": {},
   "outputs": [],
   "source": [
    "print(\"이름\\t나이\\t지역\")\n",
    "print(\"윤인성\\t25\\t강서구\")\n",
    "print(\"윤아린\\t24\\t강서구\")\n",
    "print(\"구름\\t3\\t강서구\")"
   ]
  },
  {
   "cell_type": "code",
   "execution_count": null,
   "id": "8c0b95af",
   "metadata": {},
   "outputs": [],
   "source": [
    "print('동해물과 백두산이 마르고 닳도록\\n하느님이 보우하사 우리나라 만세')\n",
    "\n",
    "print('''하느님이\\\n",
    "보우하사 \n",
    "마르고닳도록''')"
   ]
  },
  {
   "cell_type": "code",
   "execution_count": null,
   "id": "3a1b3c7c",
   "metadata": {},
   "outputs": [],
   "source": [
    "print('test'*3)"
   ]
  },
  {
   "cell_type": "code",
   "execution_count": null,
   "id": "2183ad99",
   "metadata": {},
   "outputs": [],
   "source": [
    "print('a'+'b')"
   ]
  },
  {
   "cell_type": "code",
   "execution_count": null,
   "id": "5cb6fddd",
   "metadata": {},
   "outputs": [],
   "source": [
    "print('안녕하세요'[0])"
   ]
  },
  {
   "cell_type": "code",
   "execution_count": null,
   "id": "ff43bb99",
   "metadata": {},
   "outputs": [],
   "source": [
    "print('안녕하세요그래요'[0:-1:3])"
   ]
  },
  {
   "cell_type": "code",
   "execution_count": null,
   "id": "8d3f0068",
   "metadata": {},
   "outputs": [],
   "source": [
    "5//2"
   ]
  },
  {
   "cell_type": "code",
   "execution_count": null,
   "id": "cd3c5e24",
   "metadata": {},
   "outputs": [],
   "source": [
    "print(pi)"
   ]
  },
  {
   "cell_type": "code",
   "execution_count": null,
   "id": "b1ea6262",
   "metadata": {},
   "outputs": [],
   "source": [
    "import numpy as np\n",
    "print(np.pi)"
   ]
  },
  {
   "cell_type": "code",
   "execution_count": null,
   "id": "12ce65b5",
   "metadata": {},
   "outputs": [],
   "source": [
    "pi"
   ]
  },
  {
   "cell_type": "code",
   "execution_count": null,
   "id": "c7c2fdd4",
   "metadata": {},
   "outputs": [],
   "source": [
    "pi=3.14\n",
    "pi"
   ]
  },
  {
   "cell_type": "code",
   "execution_count": null,
   "id": "db401be3",
   "metadata": {},
   "outputs": [],
   "source": [
    "print(pi)\n",
    "print(np.pi)"
   ]
  },
  {
   "cell_type": "code",
   "execution_count": null,
   "id": "1e974311",
   "metadata": {},
   "outputs": [],
   "source": [
    "print(type(np.pi))"
   ]
  },
  {
   "cell_type": "code",
   "execution_count": null,
   "id": "2fd0d8e1",
   "metadata": {},
   "outputs": [],
   "source": [
    "b =np.pi\n",
    "b += 10\n",
    "print(b)"
   ]
  },
  {
   "cell_type": "code",
   "execution_count": null,
   "id": "58fdd6fa",
   "metadata": {},
   "outputs": [],
   "source": [
    "print(\"안녕하세요\"-\"안녕\")"
   ]
  },
  {
   "cell_type": "code",
   "execution_count": null,
   "id": "caa5d10c",
   "metadata": {},
   "outputs": [],
   "source": [
    "string_data = input(\"인풋데이터 : \")\n",
    "print(string_data)\n",
    "print(type(string_data))\n",
    "string_data += \"456\"\n",
    "print(string_data)"
   ]
  },
  {
   "cell_type": "code",
   "execution_count": null,
   "id": "3165adf1",
   "metadata": {},
   "outputs": [],
   "source": []
  },
  {
   "cell_type": "code",
   "execution_count": null,
   "id": "2c51f921",
   "metadata": {},
   "outputs": [],
   "source": [
    "a = float(input(\"a : \"))\n",
    "b = float(input(\"b : \"))"
   ]
  },
  {
   "cell_type": "code",
   "execution_count": null,
   "id": "4716da4b",
   "metadata": {},
   "outputs": [],
   "source": [
    "print(\"a+b :\",a+b)\n",
    "print(\"a-b :\",a-b)\n",
    "print(\"a*b :\",a*b)\n",
    "print(\"a/b :\",a/b)"
   ]
  },
  {
   "cell_type": "code",
   "execution_count": null,
   "id": "9f4461ce",
   "metadata": {},
   "outputs": [],
   "source": [
    "a = \"{}만 원\".format(1000)\n",
    "b = \"{}{}{}\".format(1000, 2000, 3000)\n",
    "print(a)\n",
    "print(b)"
   ]
  },
  {
   "cell_type": "code",
   "execution_count": null,
   "id": "a4a647e9",
   "metadata": {},
   "outputs": [],
   "source": [
    "a = \"{:d}\".format(52)\n",
    "\n",
    "b = \"{:5d}\".format(52)\n",
    "\n",
    "c = \"{:10d}\".format(52)\n",
    "\n",
    "d = \"{:05d}\".format(52)\n",
    "\n",
    "e = \"{:05d}\".format(-52)\n",
    "\n",
    "print(a, b, c, d, sep=\"\\n\")"
   ]
  },
  {
   "cell_type": "code",
   "execution_count": null,
   "id": "389f2b8d",
   "metadata": {},
   "outputs": [],
   "source": [
    "a = \"asdeeeeQQQ\"\n",
    "a.upper()"
   ]
  },
  {
   "cell_type": "code",
   "execution_count": null,
   "id": "2f237980",
   "metadata": {},
   "outputs": [],
   "source": [
    "a = \"\"\"        asdddd      \n",
    "ASsddDDDD   \"\"\"\n",
    "print(a)\n",
    "print(a.strip())"
   ]
  },
  {
   "cell_type": "code",
   "execution_count": null,
   "id": "61f01fc5",
   "metadata": {},
   "outputs": [],
   "source": [
    "print(a[:4].isspace())"
   ]
  },
  {
   "cell_type": "code",
   "execution_count": null,
   "id": "a9c6c033",
   "metadata": {},
   "outputs": [],
   "source": [
    "a = \"asdasdQ3Q3Q21\"\n",
    "print(a.find('dQ'))"
   ]
  },
  {
   "cell_type": "code",
   "execution_count": null,
   "id": "185b0364",
   "metadata": {},
   "outputs": [],
   "source": [
    "print(\"asd\" in a)"
   ]
  },
  {
   "cell_type": "code",
   "execution_count": null,
   "id": "d9a36378",
   "metadata": {},
   "outputs": [],
   "source": [
    "a_list = a.split(\"Q\")\n",
    "print(a_list)"
   ]
  },
  {
   "cell_type": "code",
   "execution_count": null,
   "id": "e76f78f8",
   "metadata": {},
   "outputs": [],
   "source": [
    "print(type(a_list[3]))"
   ]
  },
  {
   "cell_type": "code",
   "execution_count": null,
   "id": "85a56bd2",
   "metadata": {},
   "outputs": [],
   "source": [
    "b = 1234561456189\n",
    "b.split(1)"
   ]
  },
  {
   "cell_type": "code",
   "execution_count": null,
   "id": "7d383265",
   "metadata": {},
   "outputs": [],
   "source": [
    "a_list[0][1:-1]"
   ]
  },
  {
   "cell_type": "code",
   "execution_count": null,
   "id": "f7358895",
   "metadata": {},
   "outputs": [],
   "source": [
    "zero = input(\"두 수를 띄어쓰기로 구분하여 입력하시오\")\n",
    "a = float(zero.split(\" \")[0])\n",
    "b = float(zero.split(\" \")[1])\n",
    "print(\"a+b :\", a+b)\n",
    "print(\"a-b :\", a-b)"
   ]
  },
  {
   "cell_type": "code",
   "execution_count": null,
   "id": "eb8b2c98",
   "metadata": {},
   "outputs": [],
   "source": [
    "print(type(zero))"
   ]
  },
  {
   "cell_type": "code",
   "execution_count": null,
   "id": "a35b5135",
   "metadata": {},
   "outputs": [],
   "source": [
    "a = input(\"영문자입력 :\")\n",
    "print(\"대문자로 :\", a.upper())\n",
    "print(\"소문자로 :\", a.lower())\n",
    "print(\"알파벳으로 이루어져 있는가? :\", a.isalpha())"
   ]
  },
  {
   "cell_type": "code",
   "execution_count": null,
   "id": "cf5d0da1",
   "metadata": {},
   "outputs": [],
   "source": [
    "b = input(\"숫자입력 :\")\n",
    "print(type(b))\n",
    "print(\"숫자로만 이루어져 있는가? :\", b.isdigit())"
   ]
  },
  {
   "cell_type": "code",
   "execution_count": null,
   "id": "8f2e431d",
   "metadata": {},
   "outputs": [],
   "source": [
    "c = input(\"문자열 5개 띄어쓰기로 구분하여 입력 :\")\n",
    "print(\"3번 째 문자열 처음 문자 :\", c.split()[2][0])\n",
    "print(\"5번 째 문자열의 마지막 문자 :\", c.split()[4][-1])\n",
    "print(\"문자열 길이 :\", len(c))\n",
    "print(\"test가 입력됐는가? :\", 'test' in c)"
   ]
  },
  {
   "cell_type": "code",
   "execution_count": null,
   "id": "54f1dc17",
   "metadata": {},
   "outputs": [],
   "source": [
    "d = input(\"숫자 세 개를 띄어쓰기로 구분하여 입력 :\")\n",
    "print(d)\n",
    "print(type(d))\n",
    "print('처음과 마지막 숫자의 합 :', float(d.split()[0])+float(d.split()[-1]))\n",
    "print('두번 쨰와 마지막 숫자의 곱 :', float(d.split()[1])*float(d.split()[-1]))"
   ]
  },
  {
   "cell_type": "code",
   "execution_count": null,
   "id": "f5ebc92d",
   "metadata": {},
   "outputs": [],
   "source": [
    "d = input(\"숫자 세 개를 띄어쓰기로 구분하여 입력 :\").split()\n",
    "print(d)"
   ]
  },
  {
   "cell_type": "code",
   "execution_count": null,
   "id": "79fa72cf",
   "metadata": {},
   "outputs": [],
   "source": []
  }
 ],
 "metadata": {
  "kernelspec": {
   "display_name": "Python 3 (ipykernel)",
   "language": "python",
   "name": "python3"
  },
  "language_info": {
   "codemirror_mode": {
    "name": "ipython",
    "version": 3
   },
   "file_extension": ".py",
   "mimetype": "text/x-python",
   "name": "python",
   "nbconvert_exporter": "python",
   "pygments_lexer": "ipython3",
   "version": "3.9.7"
  }
 },
 "nbformat": 4,
 "nbformat_minor": 5
}
